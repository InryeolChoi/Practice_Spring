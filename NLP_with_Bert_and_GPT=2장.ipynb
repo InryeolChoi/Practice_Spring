{
  "nbformat": 4,
  "nbformat_minor": 0,
  "metadata": {
    "colab": {
      "name": "NLP_with_Bert_and_GPT=2장",
      "provenance": [],
      "collapsed_sections": [],
      "authorship_tag": "ABX9TyPuXQTksR5+/B9VVsncG1Ld",
      "include_colab_link": true
    },
    "kernelspec": {
      "name": "python3",
      "display_name": "Python 3"
    },
    "language_info": {
      "name": "python"
    }
  },
  "cells": [
    {
      "cell_type": "markdown",
      "metadata": {
        "id": "view-in-github",
        "colab_type": "text"
      },
      "source": [
        "<a href=\"https://colab.research.google.com/github/InryeolChoi/Spring-study/blob/master/NLP_with_Bert_and_GPT%3D2%EC%9E%A5.ipynb\" target=\"_parent\"><img src=\"https://colab.research.google.com/assets/colab-badge.svg\" alt=\"Open In Colab\"/></a>"
      ]
    },
    {
      "cell_type": "markdown",
      "source": [
        "# 2-3. 어휘집합 구축하기\n"
      ],
      "metadata": {
        "id": "msM0JOZqWTqA"
      }
    },
    {
      "cell_type": "code",
      "source": [
        "!pip install ratsnlp"
      ],
      "metadata": {
        "id": "QGJr4vs8WU79"
      },
      "execution_count": null,
      "outputs": []
    },
    {
      "cell_type": "code",
      "source": [
        "from Korpora import Korpora\n",
        "nsmc = Korpora.load(\"nsmc\", force_download=True)"
      ],
      "metadata": {
        "id": "5TctZYkIWrKd",
        "colab": {
          "base_uri": "https://localhost:8080/"
        },
        "outputId": "1870ae0b-35cf-4b3d-fda9-fe7df6bd5042"
      },
      "execution_count": null,
      "outputs": [
        {
          "output_type": "stream",
          "name": "stdout",
          "text": [
            "\n",
            "    Korpora 는 다른 분들이 연구 목적으로 공유해주신 말뭉치들을\n",
            "    손쉽게 다운로드, 사용할 수 있는 기능만을 제공합니다.\n",
            "\n",
            "    말뭉치들을 공유해 주신 분들에게 감사드리며, 각 말뭉치 별 설명과 라이센스를 공유 드립니다.\n",
            "    해당 말뭉치에 대해 자세히 알고 싶으신 분은 아래의 description 을 참고,\n",
            "    해당 말뭉치를 연구/상용의 목적으로 이용하실 때에는 아래의 라이센스를 참고해 주시기 바랍니다.\n",
            "\n",
            "    # Description\n",
            "    Author : e9t@github\n",
            "    Repository : https://github.com/e9t/nsmc\n",
            "    References : www.lucypark.kr/docs/2015-pyconkr/#39\n",
            "\n",
            "    Naver sentiment movie corpus v1.0\n",
            "    This is a movie review dataset in the Korean language.\n",
            "    Reviews were scraped from Naver Movies.\n",
            "\n",
            "    The dataset construction is based on the method noted in\n",
            "    [Large movie review dataset][^1] from Maas et al., 2011.\n",
            "\n",
            "    [^1]: http://ai.stanford.edu/~amaas/data/sentiment/\n",
            "\n",
            "    # License\n",
            "    CC0 1.0 Universal (CC0 1.0) Public Domain Dedication\n",
            "    Details in https://creativecommons.org/publicdomain/zero/1.0/\n",
            "\n"
          ]
        },
        {
          "output_type": "stream",
          "name": "stderr",
          "text": [
            "[nsmc] download ratings_train.txt: 14.6MB [00:00, 199MB/s]\n",
            "[nsmc] download ratings_test.txt: 4.90MB [00:00, 112MB/s]\n"
          ]
        }
      ]
    },
    {
      "cell_type": "markdown",
      "source": [
        "NSMC 전처리"
      ],
      "metadata": {
        "id": "fk0b8v6RWtSu"
      }
    },
    {
      "cell_type": "code",
      "source": [
        "import os\n",
        "def write_lines(path, lines):\n",
        "  with open(path, 'w', encoding='utf-8') as f:\n",
        "    for line in lines:\n",
        "      f.write(f'{line}\\n')\n",
        "write_lines(\"/content/train.txt\", nsmc.train.get_all_texts())\n",
        "write_lines(\"/content/test.txt\", nsmc.train.get_all_texts())\n"
      ],
      "metadata": {
        "id": "scoeED-_Wsza"
      },
      "execution_count": null,
      "outputs": []
    },
    {
      "cell_type": "markdown",
      "source": [
        "디렉터리 만들기"
      ],
      "metadata": {
        "id": "nHcdzVZrWvpW"
      }
    },
    {
      "cell_type": "code",
      "source": [
        "import os\n",
        "os.makedirs(\"/gdrive/My Drive/nlpbook/bbpe\", exist_ok = True)"
      ],
      "metadata": {
        "id": "4Ad0F5PZWwHI"
      },
      "execution_count": null,
      "outputs": []
    },
    {
      "cell_type": "markdown",
      "source": [
        "바이트 수준 BPE 어휘 집합 구축"
      ],
      "metadata": {
        "id": "zxr2odt7W5Bd"
      }
    },
    {
      "cell_type": "code",
      "source": [
        "from tokenizers import ByteLevelBPETokenizer\n",
        "bytebpe_tokenzier = ByteLevelBPETokenizer()\n",
        "bytebpe_tokenzier.train(\n",
        "    files = [\"/content/train.txt\", \"/content/test.txt\"],\n",
        "    vocab_size = 10000,\n",
        "    special_tokens = [\"[PAD]\"]\n",
        ")\n",
        "bytebpe_tokenzier.save_model(\"/gdrive/My Drive/nlpbook/bbpe\")"
      ],
      "metadata": {
        "colab": {
          "base_uri": "https://localhost:8080/"
        },
        "id": "_d3Iya7fWx3q",
        "outputId": "140366bc-99df-4147-c4fc-4befa7966570"
      },
      "execution_count": null,
      "outputs": [
        {
          "output_type": "execute_result",
          "data": {
            "text/plain": [
              "['/gdrive/My Drive/nlpbook/bbpe/vocab.json',\n",
              " '/gdrive/My Drive/nlpbook/bbpe/merges.txt']"
            ]
          },
          "metadata": {},
          "execution_count": 15
        }
      ]
    },
    {
      "cell_type": "markdown",
      "source": [
        "디렉토리 만들기"
      ],
      "metadata": {
        "id": "2p7wnnALm5jG"
      }
    },
    {
      "cell_type": "code",
      "source": [
        "import os\n",
        "os.makedirs(\"/gdrive/My Drive/nlpbook/wordpiece\", exist_ok=True)"
      ],
      "metadata": {
        "id": "eraf1TQNW7JR"
      },
      "execution_count": null,
      "outputs": []
    },
    {
      "cell_type": "markdown",
      "source": [
        "워드피스 어휘집합 구축"
      ],
      "metadata": {
        "id": "pzHxrlqbm7lR"
      }
    },
    {
      "cell_type": "code",
      "source": [
        "from tokenizers import BertWordPieceTokenizer\n",
        "wordpiece_tokenizer = BertWordPieceTokenizer(lowercase=False)\n",
        "wordpiece_tokenizer.train(\n",
        "    files = [\"/content/train.txt\", \"/content/test.txt\"],\n",
        "    vocab_size = 10000\n",
        ")\n",
        "wordpiece_tokenizer.save_model(\"/gdrive/My Drive/nlpbook/wordpiece\")"
      ],
      "metadata": {
        "id": "e6E5a0eJXAMN",
        "colab": {
          "base_uri": "https://localhost:8080/"
        },
        "outputId": "37536e34-69ab-451d-af3e-14520973657f"
      },
      "execution_count": null,
      "outputs": [
        {
          "output_type": "execute_result",
          "data": {
            "text/plain": [
              "['/gdrive/My Drive/nlpbook/wordpiece/vocab.txt']"
            ]
          },
          "metadata": {},
          "execution_count": 7
        }
      ]
    },
    {
      "cell_type": "markdown",
      "source": [
        ""
      ],
      "metadata": {
        "id": "SJUrzA_vXrMQ"
      }
    },
    {
      "cell_type": "markdown",
      "source": [
        "# 2-4. 토큰화하기\n"
      ],
      "metadata": {
        "id": "LdHhuoH3XB3L"
      }
    },
    {
      "cell_type": "markdown",
      "source": [
        "준비코드"
      ],
      "metadata": {
        "id": "907RE3yUXDwM"
      }
    },
    {
      "cell_type": "code",
      "source": [
        "!pip install ratsnlp"
      ],
      "metadata": {
        "id": "GUtZ66bBXDdV"
      },
      "execution_count": null,
      "outputs": []
    },
    {
      "cell_type": "code",
      "source": [
        "from google.colab import drive\n",
        "drive.mount('/gdrive', force_remount=True)"
      ],
      "metadata": {
        "id": "rHCfnVrtXDFm"
      },
      "execution_count": null,
      "outputs": []
    },
    {
      "cell_type": "markdown",
      "source": [
        "GPT 입력값 설정"
      ],
      "metadata": {
        "id": "C9KEAoQuXHJM"
      }
    },
    {
      "cell_type": "code",
      "source": [
        "from transformers import GPT2Tokenizer\n",
        "tokenizer_gpt = GPT2Tokenizer.from_pretrained(\"/gdrive/My Drive/nlpbook/bbpe\")\n",
        "tokenizer_gpt.pad_token = \"[PAD]\""
      ],
      "metadata": {
        "colab": {
          "base_uri": "https://localhost:8080/"
        },
        "id": "5ORaTVoMXH56",
        "outputId": "59dfc1d8-0dd3-4244-872e-9b47074ca137"
      },
      "execution_count": null,
      "outputs": [
        {
          "output_type": "stream",
          "name": "stderr",
          "text": [
            "file /gdrive/My Drive/nlpbook/bbpe/config.json not found\n"
          ]
        }
      ]
    },
    {
      "cell_type": "code",
      "source": [
        "Sentences = [\n",
        "    \"아 더빙...진짜 짜증나네요 목소리\",\n",
        "    \"연기가 별로 답이 없는 것 같다.\",\n",
        "    \"별루였다...\"\n",
        "]\n",
        "tokenized_sentences = [tokenizer_gpt.tokenize(sen) for sen in Sentences]\n",
        "tokenized_sentences"
      ],
      "metadata": {
        "id": "taKGGTMxXJEx",
        "colab": {
          "base_uri": "https://localhost:8080/"
        },
        "outputId": "b948aa14-22d1-4a97-ede8-b23440a0b6d3"
      },
      "execution_count": null,
      "outputs": [
        {
          "output_type": "execute_result",
          "data": {
            "text/plain": [
              "[['ìķĦ', 'ĠëįĶë¹Ļ', '...', 'ì§Ħì§ľ', 'Ġì§ľì¦ĿëĤĺ', 'ëĦ¤ìļĶ', 'Ġëª©ìĨĮë¦¬'],\n",
              " ['ìĹ°ê¸°ê°Ģ', 'Ġë³Ħë¡ľ', 'ĠëĭµìĿ´', 'ĠìĹĨëĬĶ', 'Ġê²ĥ', 'Ġê°Ļëĭ¤', '.'],\n",
              " ['ë³Ħë£¨', 'ìĺĢëĭ¤', '...']]"
            ]
          },
          "metadata": {},
          "execution_count": 17
        }
      ]
    },
    {
      "cell_type": "code",
      "source": [
        "batch_inputs = tokenizer_gpt(\n",
        "    Sentences,\n",
        "    padding = \"max_length\",\n",
        "    max_length = 12,\n",
        "    truncation = True\n",
        ")"
      ],
      "metadata": {
        "id": "vNYQuJb0XMEC"
      },
      "execution_count": null,
      "outputs": []
    },
    {
      "cell_type": "markdown",
      "source": [
        "BERT 입력값 만들기"
      ],
      "metadata": {
        "id": "YzFDl2_MXLXD"
      }
    },
    {
      "cell_type": "code",
      "source": [
        "from transformers import BertTokenizer\n",
        "tokenizer_bert = BertTokenizer.from_pretrained(\n",
        "    \"/gdrive/My Drive/nlpbook/wordpiece\",\n",
        "    do_lower_case = False\n",
        ")"
      ],
      "metadata": {
        "id": "vC_QKHhPXO4w",
        "colab": {
          "base_uri": "https://localhost:8080/"
        },
        "outputId": "8c70cc6f-622a-4a53-abe5-0eeed23de2b7"
      },
      "execution_count": null,
      "outputs": [
        {
          "output_type": "stream",
          "name": "stderr",
          "text": [
            "file /gdrive/My Drive/nlpbook/wordpiece/config.json not found\n"
          ]
        }
      ]
    },
    {
      "cell_type": "code",
      "source": [
        "batch_inputs = tokenizer_bert(\n",
        "    Sentences,\n",
        "    padding = \"max_length\",\n",
        "    max_length = 12,\n",
        "    truncation = True\n",
        ")"
      ],
      "metadata": {
        "id": "Ybej-MmDXTwI"
      },
      "execution_count": null,
      "outputs": []
    },
    {
      "cell_type": "code",
      "source": [
        "batch_inputs[\"input_ids\"]"
      ],
      "metadata": {
        "colab": {
          "base_uri": "https://localhost:8080/"
        },
        "id": "O1FVhaRttYo4",
        "outputId": "c2d900dc-afbd-420e-a94b-7db4cb5863d2"
      },
      "execution_count": null,
      "outputs": [
        {
          "output_type": "execute_result",
          "data": {
            "text/plain": [
              "[[2, 623, 2639, 16, 16, 16, 1993, 3682, 1990, 3467, 3, 0],\n",
              " [2, 2347, 2092, 6184, 2062, 128, 2278, 16, 3, 0, 0, 0],\n",
              " [2, 3341, 2183, 16, 16, 16, 3, 0, 0, 0, 0, 0]]"
            ]
          },
          "metadata": {},
          "execution_count": 21
        }
      ]
    },
    {
      "cell_type": "code",
      "source": [
        ""
      ],
      "metadata": {
        "id": "xCxmzosotbaV"
      },
      "execution_count": null,
      "outputs": []
    }
  ]
}